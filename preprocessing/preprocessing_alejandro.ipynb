{
 "cells": [
  {
   "cell_type": "code",
   "execution_count": 113,
   "id": "db2dc0bc",
   "metadata": {},
   "outputs": [],
   "source": [
    "import re\n",
    "import pandas as pd\n",
    "import numpy as np\n",
    "import seaborn as sns\n",
    "import matplotlib.pyplot as plt"
   ]
  },
  {
   "cell_type": "code",
   "execution_count": 114,
   "id": "c9b86778",
   "metadata": {},
   "outputs": [
    {
     "name": "stdout",
     "output_type": "stream",
     "text": [
      "(21742, 58)\n"
     ]
    },
    {
     "data": {
      "application/vnd.microsoft.datawrangler.viewer.v0+json": {
       "columns": [
        {
         "name": "index",
         "rawType": "int64",
         "type": "integer"
        },
        {
         "name": "Unnamed: 0",
         "rawType": "int64",
         "type": "integer"
        },
        {
         "name": "id",
         "rawType": "int64",
         "type": "integer"
        },
        {
         "name": "title",
         "rawType": "object",
         "type": "string"
        },
        {
         "name": "subtitle",
         "rawType": "object",
         "type": "string"
        },
        {
         "name": "sq_mt_built",
         "rawType": "float64",
         "type": "float"
        },
        {
         "name": "sq_mt_useful",
         "rawType": "float64",
         "type": "float"
        },
        {
         "name": "n_rooms",
         "rawType": "int64",
         "type": "integer"
        },
        {
         "name": "n_bathrooms",
         "rawType": "float64",
         "type": "float"
        },
        {
         "name": "n_floors",
         "rawType": "float64",
         "type": "float"
        },
        {
         "name": "sq_mt_allotment",
         "rawType": "float64",
         "type": "float"
        },
        {
         "name": "latitude",
         "rawType": "float64",
         "type": "float"
        },
        {
         "name": "longitude",
         "rawType": "float64",
         "type": "float"
        },
        {
         "name": "raw_address",
         "rawType": "object",
         "type": "string"
        },
        {
         "name": "is_exact_address_hidden",
         "rawType": "bool",
         "type": "boolean"
        },
        {
         "name": "street_name",
         "rawType": "object",
         "type": "string"
        },
        {
         "name": "street_number",
         "rawType": "object",
         "type": "unknown"
        },
        {
         "name": "portal",
         "rawType": "float64",
         "type": "float"
        },
        {
         "name": "floor",
         "rawType": "object",
         "type": "unknown"
        },
        {
         "name": "is_floor_under",
         "rawType": "float64",
         "type": "float"
        },
        {
         "name": "door",
         "rawType": "float64",
         "type": "float"
        },
        {
         "name": "neighborhood_id",
         "rawType": "object",
         "type": "string"
        },
        {
         "name": "operation",
         "rawType": "object",
         "type": "string"
        },
        {
         "name": "rent_price",
         "rawType": "int64",
         "type": "integer"
        },
        {
         "name": "rent_price_by_area",
         "rawType": "float64",
         "type": "float"
        },
        {
         "name": "is_rent_price_known",
         "rawType": "bool",
         "type": "boolean"
        },
        {
         "name": "buy_price",
         "rawType": "int64",
         "type": "integer"
        },
        {
         "name": "buy_price_by_area",
         "rawType": "int64",
         "type": "integer"
        },
        {
         "name": "is_buy_price_known",
         "rawType": "bool",
         "type": "boolean"
        },
        {
         "name": "house_type_id",
         "rawType": "object",
         "type": "string"
        },
        {
         "name": "is_renewal_needed",
         "rawType": "bool",
         "type": "boolean"
        },
        {
         "name": "is_new_development",
         "rawType": "float64",
         "type": "float"
        },
        {
         "name": "built_year",
         "rawType": "float64",
         "type": "float"
        },
        {
         "name": "has_central_heating",
         "rawType": "float64",
         "type": "float"
        },
        {
         "name": "has_individual_heating",
         "rawType": "float64",
         "type": "float"
        },
        {
         "name": "are_pets_allowed",
         "rawType": "float64",
         "type": "float"
        },
        {
         "name": "has_ac",
         "rawType": "float64",
         "type": "float"
        },
        {
         "name": "has_fitted_wardrobes",
         "rawType": "float64",
         "type": "float"
        },
        {
         "name": "has_lift",
         "rawType": "float64",
         "type": "float"
        },
        {
         "name": "is_exterior",
         "rawType": "float64",
         "type": "float"
        },
        {
         "name": "has_garden",
         "rawType": "float64",
         "type": "float"
        },
        {
         "name": "has_pool",
         "rawType": "float64",
         "type": "float"
        },
        {
         "name": "has_terrace",
         "rawType": "float64",
         "type": "float"
        },
        {
         "name": "has_balcony",
         "rawType": "float64",
         "type": "float"
        },
        {
         "name": "has_storage_room",
         "rawType": "float64",
         "type": "float"
        },
        {
         "name": "is_furnished",
         "rawType": "float64",
         "type": "float"
        },
        {
         "name": "is_kitchen_equipped",
         "rawType": "float64",
         "type": "float"
        },
        {
         "name": "is_accessible",
         "rawType": "float64",
         "type": "float"
        },
        {
         "name": "has_green_zones",
         "rawType": "float64",
         "type": "float"
        },
        {
         "name": "energy_certificate",
         "rawType": "object",
         "type": "string"
        },
        {
         "name": "has_parking",
         "rawType": "bool",
         "type": "boolean"
        },
        {
         "name": "has_private_parking",
         "rawType": "float64",
         "type": "float"
        },
        {
         "name": "has_public_parking",
         "rawType": "float64",
         "type": "float"
        },
        {
         "name": "is_parking_included_in_price",
         "rawType": "float64",
         "type": "float"
        },
        {
         "name": "parking_price",
         "rawType": "float64",
         "type": "float"
        },
        {
         "name": "is_orientation_north",
         "rawType": "float64",
         "type": "float"
        },
        {
         "name": "is_orientation_west",
         "rawType": "float64",
         "type": "float"
        },
        {
         "name": "is_orientation_south",
         "rawType": "float64",
         "type": "float"
        },
        {
         "name": "is_orientation_east",
         "rawType": "float64",
         "type": "float"
        }
       ],
       "conversionMethod": "pd.DataFrame",
       "ref": "f8ab7e29-052b-43b5-a43b-980e209214a8",
       "rows": [
        [
         "0",
         "0",
         "21742",
         "Piso en venta en calle de Godella, 64",
         "San Cristóbal, Madrid",
         "64.0",
         "60.0",
         "2",
         "1.0",
         null,
         null,
         null,
         null,
         "Calle de Godella, 64",
         "False",
         "Calle de Godella",
         "64",
         null,
         "3",
         "0.0",
         null,
         "Neighborhood 135: San Cristóbal (1308.89 €/m2) - District 21: Villaverde",
         "sale",
         "471",
         null,
         "False",
         "85000",
         "1328",
         "True",
         "HouseType 1: Pisos",
         "False",
         "0.0",
         "1960.0",
         null,
         null,
         null,
         "1.0",
         null,
         "0.0",
         "1.0",
         null,
         null,
         null,
         null,
         null,
         null,
         null,
         null,
         null,
         "D",
         "False",
         null,
         null,
         null,
         null,
         "0.0",
         "1.0",
         "0.0",
         "0.0"
        ],
        [
         "1",
         "1",
         "21741",
         "Piso en venta en calle de la del Manojo de Rosas",
         "Los Ángeles, Madrid",
         "70.0",
         null,
         "3",
         "1.0",
         null,
         null,
         null,
         null,
         "Calle de la del Manojo de Rosas",
         "True",
         "Calle de la del Manojo de Rosas",
         null,
         null,
         "4",
         "0.0",
         null,
         "Neighborhood 132: Los Ángeles (1796.68 €/m2) - District 21: Villaverde",
         "sale",
         "666",
         null,
         "False",
         "129900",
         "1856",
         "True",
         "HouseType 1: Pisos",
         "True",
         "0.0",
         null,
         null,
         null,
         null,
         null,
         "1.0",
         "1.0",
         "1.0",
         null,
         null,
         "1.0",
         null,
         null,
         null,
         null,
         null,
         null,
         "en trámite",
         "False",
         null,
         null,
         null,
         null,
         null,
         null,
         null,
         null
        ],
        [
         "2",
         "2",
         "21740",
         "Piso en venta en calle del Talco, 68",
         "San Andrés, Madrid",
         "94.0",
         "54.0",
         "2",
         "2.0",
         null,
         null,
         null,
         null,
         "Calle del Talco, 68",
         "False",
         "Calle del Talco",
         "68",
         null,
         "1",
         "0.0",
         null,
         "Neighborhood 134: San Andrés (1617.18 €/m2) - District 21: Villaverde",
         "sale",
         "722",
         null,
         "False",
         "144247",
         "1535",
         "True",
         "HouseType 1: Pisos",
         "False",
         "0.0",
         null,
         "0.0",
         "1.0",
         null,
         null,
         "1.0",
         "1.0",
         "1.0",
         null,
         null,
         null,
         null,
         "1.0",
         null,
         null,
         null,
         null,
         "no indicado",
         "False",
         null,
         null,
         null,
         null,
         null,
         null,
         null,
         null
        ],
        [
         "3",
         "3",
         "21739",
         "Piso en venta en calle Pedro Jiménez",
         "San Andrés, Madrid",
         "64.0",
         null,
         "2",
         "1.0",
         null,
         null,
         null,
         null,
         "Calle Pedro Jiménez",
         "True",
         "Calle Pedro Jiménez",
         null,
         null,
         "Bajo",
         "1.0",
         null,
         "Neighborhood 134: San Andrés (1617.18 €/m2) - District 21: Villaverde",
         "sale",
         "583",
         null,
         "False",
         "109900",
         "1717",
         "True",
         "HouseType 1: Pisos",
         "False",
         "0.0",
         "1955.0",
         null,
         null,
         null,
         null,
         null,
         "1.0",
         "1.0",
         null,
         null,
         null,
         null,
         "1.0",
         null,
         null,
         "1.0",
         null,
         "en trámite",
         "False",
         null,
         null,
         null,
         null,
         "0.0",
         "0.0",
         "1.0",
         "0.0"
        ],
        [
         "4",
         "4",
         "21738",
         "Piso en venta en carretera de Villaverde a Vallecas",
         "Los Rosales, Madrid",
         "108.0",
         "90.0",
         "2",
         "2.0",
         null,
         null,
         null,
         null,
         "Carretera de Villaverde a Vallecas",
         "True",
         "Carretera de Villaverde a Vallecas",
         null,
         null,
         "4",
         "0.0",
         null,
         "Neighborhood 133: Los Rosales (1827.79 €/m2) - District 21: Villaverde",
         "sale",
         "1094",
         null,
         "False",
         "260000",
         "2407",
         "True",
         "HouseType 1: Pisos",
         "False",
         "0.0",
         "2003.0",
         null,
         null,
         null,
         "1.0",
         "1.0",
         "1.0",
         "1.0",
         null,
         "1.0",
         null,
         null,
         "1.0",
         null,
         null,
         null,
         "1.0",
         "en trámite",
         "True",
         null,
         null,
         "1.0",
         "0.0",
         "1.0",
         "1.0",
         "1.0",
         "1.0"
        ]
       ],
       "shape": {
        "columns": 58,
        "rows": 5
       }
      },
      "text/html": [
       "<div>\n",
       "<style scoped>\n",
       "    .dataframe tbody tr th:only-of-type {\n",
       "        vertical-align: middle;\n",
       "    }\n",
       "\n",
       "    .dataframe tbody tr th {\n",
       "        vertical-align: top;\n",
       "    }\n",
       "\n",
       "    .dataframe thead th {\n",
       "        text-align: right;\n",
       "    }\n",
       "</style>\n",
       "<table border=\"1\" class=\"dataframe\">\n",
       "  <thead>\n",
       "    <tr style=\"text-align: right;\">\n",
       "      <th></th>\n",
       "      <th>Unnamed: 0</th>\n",
       "      <th>id</th>\n",
       "      <th>title</th>\n",
       "      <th>subtitle</th>\n",
       "      <th>sq_mt_built</th>\n",
       "      <th>sq_mt_useful</th>\n",
       "      <th>n_rooms</th>\n",
       "      <th>n_bathrooms</th>\n",
       "      <th>n_floors</th>\n",
       "      <th>sq_mt_allotment</th>\n",
       "      <th>...</th>\n",
       "      <th>energy_certificate</th>\n",
       "      <th>has_parking</th>\n",
       "      <th>has_private_parking</th>\n",
       "      <th>has_public_parking</th>\n",
       "      <th>is_parking_included_in_price</th>\n",
       "      <th>parking_price</th>\n",
       "      <th>is_orientation_north</th>\n",
       "      <th>is_orientation_west</th>\n",
       "      <th>is_orientation_south</th>\n",
       "      <th>is_orientation_east</th>\n",
       "    </tr>\n",
       "  </thead>\n",
       "  <tbody>\n",
       "    <tr>\n",
       "      <th>0</th>\n",
       "      <td>0</td>\n",
       "      <td>21742</td>\n",
       "      <td>Piso en venta en calle de Godella, 64</td>\n",
       "      <td>San Cristóbal, Madrid</td>\n",
       "      <td>64.0</td>\n",
       "      <td>60.0</td>\n",
       "      <td>2</td>\n",
       "      <td>1.0</td>\n",
       "      <td>NaN</td>\n",
       "      <td>NaN</td>\n",
       "      <td>...</td>\n",
       "      <td>D</td>\n",
       "      <td>False</td>\n",
       "      <td>NaN</td>\n",
       "      <td>NaN</td>\n",
       "      <td>NaN</td>\n",
       "      <td>NaN</td>\n",
       "      <td>0.0</td>\n",
       "      <td>1.0</td>\n",
       "      <td>0.0</td>\n",
       "      <td>0.0</td>\n",
       "    </tr>\n",
       "    <tr>\n",
       "      <th>1</th>\n",
       "      <td>1</td>\n",
       "      <td>21741</td>\n",
       "      <td>Piso en venta en calle de la del Manojo de Rosas</td>\n",
       "      <td>Los Ángeles, Madrid</td>\n",
       "      <td>70.0</td>\n",
       "      <td>NaN</td>\n",
       "      <td>3</td>\n",
       "      <td>1.0</td>\n",
       "      <td>NaN</td>\n",
       "      <td>NaN</td>\n",
       "      <td>...</td>\n",
       "      <td>en trámite</td>\n",
       "      <td>False</td>\n",
       "      <td>NaN</td>\n",
       "      <td>NaN</td>\n",
       "      <td>NaN</td>\n",
       "      <td>NaN</td>\n",
       "      <td>NaN</td>\n",
       "      <td>NaN</td>\n",
       "      <td>NaN</td>\n",
       "      <td>NaN</td>\n",
       "    </tr>\n",
       "    <tr>\n",
       "      <th>2</th>\n",
       "      <td>2</td>\n",
       "      <td>21740</td>\n",
       "      <td>Piso en venta en calle del Talco, 68</td>\n",
       "      <td>San Andrés, Madrid</td>\n",
       "      <td>94.0</td>\n",
       "      <td>54.0</td>\n",
       "      <td>2</td>\n",
       "      <td>2.0</td>\n",
       "      <td>NaN</td>\n",
       "      <td>NaN</td>\n",
       "      <td>...</td>\n",
       "      <td>no indicado</td>\n",
       "      <td>False</td>\n",
       "      <td>NaN</td>\n",
       "      <td>NaN</td>\n",
       "      <td>NaN</td>\n",
       "      <td>NaN</td>\n",
       "      <td>NaN</td>\n",
       "      <td>NaN</td>\n",
       "      <td>NaN</td>\n",
       "      <td>NaN</td>\n",
       "    </tr>\n",
       "    <tr>\n",
       "      <th>3</th>\n",
       "      <td>3</td>\n",
       "      <td>21739</td>\n",
       "      <td>Piso en venta en calle Pedro Jiménez</td>\n",
       "      <td>San Andrés, Madrid</td>\n",
       "      <td>64.0</td>\n",
       "      <td>NaN</td>\n",
       "      <td>2</td>\n",
       "      <td>1.0</td>\n",
       "      <td>NaN</td>\n",
       "      <td>NaN</td>\n",
       "      <td>...</td>\n",
       "      <td>en trámite</td>\n",
       "      <td>False</td>\n",
       "      <td>NaN</td>\n",
       "      <td>NaN</td>\n",
       "      <td>NaN</td>\n",
       "      <td>NaN</td>\n",
       "      <td>0.0</td>\n",
       "      <td>0.0</td>\n",
       "      <td>1.0</td>\n",
       "      <td>0.0</td>\n",
       "    </tr>\n",
       "    <tr>\n",
       "      <th>4</th>\n",
       "      <td>4</td>\n",
       "      <td>21738</td>\n",
       "      <td>Piso en venta en carretera de Villaverde a Val...</td>\n",
       "      <td>Los Rosales, Madrid</td>\n",
       "      <td>108.0</td>\n",
       "      <td>90.0</td>\n",
       "      <td>2</td>\n",
       "      <td>2.0</td>\n",
       "      <td>NaN</td>\n",
       "      <td>NaN</td>\n",
       "      <td>...</td>\n",
       "      <td>en trámite</td>\n",
       "      <td>True</td>\n",
       "      <td>NaN</td>\n",
       "      <td>NaN</td>\n",
       "      <td>1.0</td>\n",
       "      <td>0.0</td>\n",
       "      <td>1.0</td>\n",
       "      <td>1.0</td>\n",
       "      <td>1.0</td>\n",
       "      <td>1.0</td>\n",
       "    </tr>\n",
       "  </tbody>\n",
       "</table>\n",
       "<p>5 rows × 58 columns</p>\n",
       "</div>"
      ],
      "text/plain": [
       "   Unnamed: 0     id                                              title  \\\n",
       "0           0  21742              Piso en venta en calle de Godella, 64   \n",
       "1           1  21741   Piso en venta en calle de la del Manojo de Rosas   \n",
       "2           2  21740               Piso en venta en calle del Talco, 68   \n",
       "3           3  21739               Piso en venta en calle Pedro Jiménez   \n",
       "4           4  21738  Piso en venta en carretera de Villaverde a Val...   \n",
       "\n",
       "                subtitle  sq_mt_built  sq_mt_useful  n_rooms  n_bathrooms  \\\n",
       "0  San Cristóbal, Madrid         64.0          60.0        2          1.0   \n",
       "1    Los Ángeles, Madrid         70.0           NaN        3          1.0   \n",
       "2     San Andrés, Madrid         94.0          54.0        2          2.0   \n",
       "3     San Andrés, Madrid         64.0           NaN        2          1.0   \n",
       "4    Los Rosales, Madrid        108.0          90.0        2          2.0   \n",
       "\n",
       "   n_floors  sq_mt_allotment  ...  energy_certificate  has_parking  \\\n",
       "0       NaN              NaN  ...                   D        False   \n",
       "1       NaN              NaN  ...          en trámite        False   \n",
       "2       NaN              NaN  ...         no indicado        False   \n",
       "3       NaN              NaN  ...          en trámite        False   \n",
       "4       NaN              NaN  ...          en trámite         True   \n",
       "\n",
       "  has_private_parking  has_public_parking is_parking_included_in_price  \\\n",
       "0                 NaN                 NaN                          NaN   \n",
       "1                 NaN                 NaN                          NaN   \n",
       "2                 NaN                 NaN                          NaN   \n",
       "3                 NaN                 NaN                          NaN   \n",
       "4                 NaN                 NaN                          1.0   \n",
       "\n",
       "  parking_price  is_orientation_north is_orientation_west  \\\n",
       "0           NaN                   0.0                 1.0   \n",
       "1           NaN                   NaN                 NaN   \n",
       "2           NaN                   NaN                 NaN   \n",
       "3           NaN                   0.0                 0.0   \n",
       "4           0.0                   1.0                 1.0   \n",
       "\n",
       "   is_orientation_south  is_orientation_east  \n",
       "0                   0.0                  0.0  \n",
       "1                   NaN                  NaN  \n",
       "2                   NaN                  NaN  \n",
       "3                   1.0                  0.0  \n",
       "4                   1.0                  1.0  \n",
       "\n",
       "[5 rows x 58 columns]"
      ]
     },
     "execution_count": 114,
     "metadata": {},
     "output_type": "execute_result"
    }
   ],
   "source": [
    "# Cargar el dataset original\n",
    "file_path = 'houses_Madrid.xlsx'\n",
    "df = pd.read_excel(file_path)\n",
    "\n",
    "# Verificar que se ha cargado correctamente\n",
    "print(df.shape)\n",
    "df.head()\n",
    "\n",
    "\n"
   ]
  },
  {
   "cell_type": "code",
   "execution_count": 115,
   "id": "bf62f8c6",
   "metadata": {},
   "outputs": [
    {
     "name": "stdout",
     "output_type": "stream",
     "text": [
      "['neighborhood_id', 'is_renewal_needed', 'has_garden', 'energy_certificate', 'is_new_development', 'n_bathrooms', 'has_lift', 'built_year', 'buy_price_by_area']\n"
     ]
    }
   ],
   "source": [
    "columns_to_keep = ['neighborhood_id', 'is_renewal_needed', 'has_garden', 'energy_certificate', 'is_new_development', 'n_bathrooms', 'has_lift',\n",
    "    'built_year', 'buy_price_by_area']\n",
    "\n",
    "df = df[columns_to_keep]\n",
    "\n",
    "print(df.columns.tolist())\n",
    "df.head()\n",
    "\n",
    "# Guardar el DataFrame actualizado en un nuevo archivo Excel\n",
    "df.to_excel('first.xlsx', index=False)\n"
   ]
  },
  {
   "cell_type": "code",
   "execution_count": 116,
   "id": "d00c33c3",
   "metadata": {},
   "outputs": [],
   "source": [
    "# Definir función mejorada\n",
    "def split_neighborhood_info(text):\n",
    "    try:\n",
    "        match = re.match(\n",
    "            r\"Neighborhood (\\d+): (.+?) \\(([\\d.,Nn][\\d.,None]*) €/m2\\) - District (\\d+): (.+)\", \n",
    "            text\n",
    "        )\n",
    "        if match:\n",
    "            neighborhood_num = int(match.group(1))\n",
    "            neighborhood_name = match.group(2)\n",
    "            price_raw = match.group(3)\n",
    "            # Detectar si es 'None' o un número\n",
    "            if 'None' in price_raw or 'none' in price_raw:\n",
    "                price_per_m2 = np.nan\n",
    "            else:\n",
    "                price_per_m2 = float(price_raw.replace(',', ''))\n",
    "            district_id = int(match.group(4))\n",
    "            district_name = match.group(5)\n",
    "            return pd.Series([neighborhood_num, neighborhood_name, price_per_m2, district_id, district_name])\n",
    "        else:\n",
    "            return pd.Series([None, None, None, None, None])\n",
    "    except Exception as e:\n",
    "        print(f\"Error processing row: {text}\")\n",
    "        print(e)\n",
    "        return pd.Series([None, None, None, None, None])"
   ]
  },
  {
   "cell_type": "code",
   "execution_count": 117,
   "id": "22de232f",
   "metadata": {},
   "outputs": [
    {
     "data": {
      "application/vnd.microsoft.datawrangler.viewer.v0+json": {
       "columns": [
        {
         "name": "index",
         "rawType": "int64",
         "type": "integer"
        },
        {
         "name": "neighborhood_num",
         "rawType": "int64",
         "type": "integer"
        },
        {
         "name": "neighborhood_name",
         "rawType": "object",
         "type": "string"
        },
        {
         "name": "price_per_m2",
         "rawType": "float64",
         "type": "float"
        },
        {
         "name": "district_id",
         "rawType": "int64",
         "type": "integer"
        },
        {
         "name": "district_name",
         "rawType": "object",
         "type": "string"
        }
       ],
       "conversionMethod": "pd.DataFrame",
       "ref": "9a33227d-da37-4b17-b392-77e6524d01d5",
       "rows": [
        [
         "0",
         "135",
         "San Cristóbal",
         "1308.89",
         "21",
         "Villaverde"
        ],
        [
         "1",
         "132",
         "Los Ángeles",
         "1796.68",
         "21",
         "Villaverde"
        ],
        [
         "2",
         "134",
         "San Andrés",
         "1617.18",
         "21",
         "Villaverde"
        ],
        [
         "3",
         "134",
         "San Andrés",
         "1617.18",
         "21",
         "Villaverde"
        ],
        [
         "4",
         "133",
         "Los Rosales",
         "1827.79",
         "21",
         "Villaverde"
        ]
       ],
       "shape": {
        "columns": 5,
        "rows": 5
       }
      },
      "text/html": [
       "<div>\n",
       "<style scoped>\n",
       "    .dataframe tbody tr th:only-of-type {\n",
       "        vertical-align: middle;\n",
       "    }\n",
       "\n",
       "    .dataframe tbody tr th {\n",
       "        vertical-align: top;\n",
       "    }\n",
       "\n",
       "    .dataframe thead th {\n",
       "        text-align: right;\n",
       "    }\n",
       "</style>\n",
       "<table border=\"1\" class=\"dataframe\">\n",
       "  <thead>\n",
       "    <tr style=\"text-align: right;\">\n",
       "      <th></th>\n",
       "      <th>neighborhood_num</th>\n",
       "      <th>neighborhood_name</th>\n",
       "      <th>price_per_m2</th>\n",
       "      <th>district_id</th>\n",
       "      <th>district_name</th>\n",
       "    </tr>\n",
       "  </thead>\n",
       "  <tbody>\n",
       "    <tr>\n",
       "      <th>0</th>\n",
       "      <td>135</td>\n",
       "      <td>San Cristóbal</td>\n",
       "      <td>1308.89</td>\n",
       "      <td>21</td>\n",
       "      <td>Villaverde</td>\n",
       "    </tr>\n",
       "    <tr>\n",
       "      <th>1</th>\n",
       "      <td>132</td>\n",
       "      <td>Los Ángeles</td>\n",
       "      <td>1796.68</td>\n",
       "      <td>21</td>\n",
       "      <td>Villaverde</td>\n",
       "    </tr>\n",
       "    <tr>\n",
       "      <th>2</th>\n",
       "      <td>134</td>\n",
       "      <td>San Andrés</td>\n",
       "      <td>1617.18</td>\n",
       "      <td>21</td>\n",
       "      <td>Villaverde</td>\n",
       "    </tr>\n",
       "    <tr>\n",
       "      <th>3</th>\n",
       "      <td>134</td>\n",
       "      <td>San Andrés</td>\n",
       "      <td>1617.18</td>\n",
       "      <td>21</td>\n",
       "      <td>Villaverde</td>\n",
       "    </tr>\n",
       "    <tr>\n",
       "      <th>4</th>\n",
       "      <td>133</td>\n",
       "      <td>Los Rosales</td>\n",
       "      <td>1827.79</td>\n",
       "      <td>21</td>\n",
       "      <td>Villaverde</td>\n",
       "    </tr>\n",
       "  </tbody>\n",
       "</table>\n",
       "</div>"
      ],
      "text/plain": [
       "   neighborhood_num neighborhood_name  price_per_m2  district_id district_name\n",
       "0               135     San Cristóbal       1308.89           21    Villaverde\n",
       "1               132       Los Ángeles       1796.68           21    Villaverde\n",
       "2               134        San Andrés       1617.18           21    Villaverde\n",
       "3               134        San Andrés       1617.18           21    Villaverde\n",
       "4               133       Los Rosales       1827.79           21    Villaverde"
      ]
     },
     "execution_count": 117,
     "metadata": {},
     "output_type": "execute_result"
    }
   ],
   "source": [
    "df[['neighborhood_num', 'neighborhood_name', 'price_per_m2', 'district_id', 'district_name']] = df['neighborhood_id'].apply(split_neighborhood_info)\n",
    "\n",
    "df[['neighborhood_num', 'neighborhood_name', 'price_per_m2', 'district_id', 'district_name']].head()\n",
    "\n",
    "\n"
   ]
  },
  {
   "cell_type": "code",
   "execution_count": 118,
   "id": "cd8c2abf",
   "metadata": {},
   "outputs": [
    {
     "data": {
      "image/png": "[encoded data removed]",
      "text/plain": [
       "<Figure size 2000x1000 with 4 Axes>"
      ]
     },
     "metadata": {},
     "output_type": "display_data"
    }
   ],
   "source": [
    "import pandas as pd\n",
    "import numpy as np\n",
    "import matplotlib.pyplot as plt\n",
    "import seaborn as sns\n",
    "from sklearn.impute import KNNImputer\n",
    "\n",
    "# Codificación ordinal\n",
    "cert_map = {'A': 1, 'B': 2, 'C': 3, 'D': 4, 'E': 5, 'F': 6, 'G': 7}\n",
    "df['energy_certificate_num'] = df['energy_certificate'].map(cert_map)\n",
    "\n",
    "# ----- Imputación proporcional por distrito -----\n",
    "certs_validos = list(cert_map.keys())\n",
    "dist_por_distrito = (\n",
    "    df[df['energy_certificate'].isin(certs_validos)]\n",
    "    .groupby('district_name')['energy_certificate']\n",
    "    .value_counts(normalize=True)\n",
    "    .unstack()\n",
    "    .fillna(0)\n",
    ")\n",
    "\n",
    "def imputar_por_distrito(row):\n",
    "    if row['energy_certificate'] == 'en trámite':\n",
    "        distrito = row['district_name']\n",
    "        if distrito in dist_por_distrito.index:\n",
    "            probs = dist_por_distrito.loc[distrito]\n",
    "            return np.random.choice(probs.index, p=probs.values)\n",
    "    return row['energy_certificate']\n",
    "\n",
    "df['energy_certificate_proporcional'] = df.apply(imputar_por_distrito, axis=1)\n",
    "df['energy_certificate_proporcional_num'] = df['energy_certificate_proporcional'].map(cert_map)\n",
    "\n",
    "# ----- Imputación con KNN -----\n",
    "features_for_knn = [\n",
    "    'is_new_development', 'n_bathrooms', 'has_lift',\n",
    "    'built_year', 'buy_price_by_area', 'energy_certificate_num'\n",
    "]\n",
    "df_knn = df[features_for_knn].copy()\n",
    "\n",
    "imputer = KNNImputer(n_neighbors=5)\n",
    "df_knn_imputed = pd.DataFrame(imputer.fit_transform(df_knn), columns=features_for_knn)\n",
    "df['energy_certificate_knn'] = df_knn_imputed['energy_certificate_num'].round().astype('Int64')\n",
    "\n",
    "# ----- Gráficos -----\n",
    "plt.figure(figsize=(20, 10))\n",
    "\n",
    "# Original\n",
    "plt.subplot(2, 2, 1)\n",
    "sns.histplot(df['energy_certificate_num'].dropna(), bins=range(1, 9), discrete=True, color='skyblue')\n",
    "plt.title(\"Original (certificados A–G codificados)\")\n",
    "plt.xlabel(\"Certificado\")\n",
    "plt.ylabel(\"Frecuencia\")\n",
    "\n",
    "# KNN\n",
    "plt.subplot(2, 2, 2)\n",
    "sns.histplot(df['energy_certificate_knn'], bins=range(1, 9), discrete=True, color='seagreen')\n",
    "plt.title(\"Imputación con KNN\")\n",
    "plt.xlabel(\"Certificado\")\n",
    "plt.ylabel(\"Frecuencia\")\n",
    "\n",
    "# Proporcional por distrito\n",
    "plt.subplot(2, 2, 3)\n",
    "sns.histplot(df['energy_certificate_proporcional_num'], bins=range(1, 9), discrete=True, color='darkorange')\n",
    "plt.title(\"Imputación proporcional por distrito\")\n",
    "plt.xlabel(\"Certificado\")\n",
    "plt.ylabel(\"Frecuencia\")\n",
    "\n",
    "# Comparación superpuesta\n",
    "plt.subplot(2, 2, 4)\n",
    "sns.histplot(df['energy_certificate_num'].dropna(), bins=range(1, 9), discrete=True, label='Original', color='skyblue', alpha=0.6)\n",
    "sns.histplot(df['energy_certificate_knn'], bins=range(1, 9), discrete=True, label='KNN', color='seagreen', alpha=0.4)\n",
    "sns.histplot(df['energy_certificate_proporcional_num'], bins=range(1, 9), discrete=True, label='Proporcional', color='darkorange', alpha=0.4)\n",
    "plt.title(\"Comparación de distribuciones\")\n",
    "plt.xlabel(\"Certificado\")\n",
    "plt.ylabel(\"Frecuencia\")\n",
    "plt.legend()\n",
    "\n",
    "plt.tight_layout()\n",
    "plt.show()\n",
    "\n",
    "df.drop(columns=['energy_certificate'], inplace=True)\n",
    "df.rename(columns={'energy_certificate_knn': 'energy_certificate'}, inplace=True)\n",
    "\n"
   ]
  },
  {
   "cell_type": "code",
   "execution_count": 119,
   "id": "d7307345",
   "metadata": {},
   "outputs": [
    {
     "name": "stdout",
     "output_type": "stream",
     "text": [
      "Antes de imputar:\n",
      "- NaNs: 82 / 21742\n",
      "- Porcentaje: 0.38%\n",
      "\n",
      "Después de imputar:\n",
      "- NaNs: 0 / 21742\n",
      "- Porcentaje: 0.00%\n",
      "\n"
     ]
    },
    {
     "data": {
      "image/png": "[encoded data removed]",
      "text/plain": [
       "<Figure size 1200x500 with 2 Axes>"
      ]
     },
     "metadata": {},
     "output_type": "display_data"
    }
   ],
   "source": [
    "import pandas as pd\n",
    "import numpy as np\n",
    "import matplotlib.pyplot as plt\n",
    "import seaborn as sns\n",
    "\n",
    "# (1) Mostrar count y porcentaje de NaNs antes de imputar\n",
    "total = len(df)\n",
    "n_nan_before = df['price_per_m2'].isna().sum()\n",
    "pct_nan_before = n_nan_before / total * 100\n",
    "print(f\"Antes de imputar:\")\n",
    "print(f\"- NaNs: {n_nan_before} / {total}\")\n",
    "print(f\"- Porcentaje: {pct_nan_before:.2f}%\\n\")\n",
    "\n",
    "# (2) Crear copia antes de imputar para graficar\n",
    "df_before = df.copy()\n",
    "\n",
    "# (3) Calcular la media de cada distrito\n",
    "district_means = df.groupby('district_id')['price_per_m2'].mean()\n",
    "\n",
    "# (4) Imputar NaNs con la media del distrito\n",
    "df['price_per_m2'] = df.apply(\n",
    "    lambda row: district_means[row['district_id']] if pd.isna(row['price_per_m2']) else row['price_per_m2'],\n",
    "    axis=1\n",
    ")\n",
    "\n",
    "# (5) Mostrar count y porcentaje de NaNs después de imputar\n",
    "n_nan_after = df['price_per_m2'].isna().sum()\n",
    "pct_nan_after = n_nan_after / total * 100\n",
    "print(f\"Después de imputar:\")\n",
    "print(f\"- NaNs: {n_nan_after} / {total}\")\n",
    "print(f\"- Porcentaje: {pct_nan_after:.2f}%\\n\")\n",
    "\n",
    "# (6) Graficar la distribución antes y después\n",
    "plt.figure(figsize=(12, 5))\n",
    "\n",
    "# Antes de imputar\n",
    "plt.subplot(1, 2, 1)\n",
    "sns.histplot(df_before['price_per_m2'].dropna(), bins=30, color='skyblue')\n",
    "plt.title(\"Distribución original (sin NaN)\")\n",
    "plt.xlabel(\"Precio por m²\")\n",
    "plt.ylabel(\"Frecuencia\")\n",
    "\n",
    "# Después de imputar\n",
    "plt.subplot(1, 2, 2)\n",
    "sns.histplot(df['price_per_m2'], bins=30, color='seagreen')\n",
    "plt.title(\"Distribución después de imputar (media por distrito)\")\n",
    "plt.xlabel(\"Precio por m²\")\n",
    "plt.ylabel(\"Frecuencia\")\n",
    "\n",
    "plt.tight_layout()\n",
    "plt.show()\n"
   ]
  },
  {
   "cell_type": "code",
   "execution_count": 120,
   "id": "5eb39322",
   "metadata": {},
   "outputs": [
    {
     "name": "stdout",
     "output_type": "stream",
     "text": [
      "has_garden\n",
      "0    20186\n",
      "1     1556\n",
      "Name: count, dtype: int64\n"
     ]
    }
   ],
   "source": [
    "# Normalizar columna 'has_garden': 1.0 -> 1, NaN -> 0\n",
    "df['has_garden'] = df['has_garden'].apply(lambda x: 1 if x == 1.0 else 0)\n",
    "\n",
    "# Verificar cambios\n",
    "print(df['has_garden'].value_counts())\n"
   ]
  },
  {
   "cell_type": "code",
   "execution_count": 121,
   "id": "762cf371",
   "metadata": {},
   "outputs": [
    {
     "name": "stdout",
     "output_type": "stream",
     "text": [
      "has_garden\n",
      "0    20186\n",
      "1     1556\n",
      "Name: count, dtype: int64\n"
     ]
    }
   ],
   "source": [
    "# Normalizar columna 'has_garden': 1.0 -> 1, NaN -> 0\n",
    "df['is_renewal_needed'] = df['is_renewal_needed'].apply(lambda x: 1 if x == True else 0)\n",
    "\n",
    "# Verificar cambios\n",
    "print(df['has_garden'].value_counts())\n"
   ]
  },
  {
   "cell_type": "code",
   "execution_count": 122,
   "id": "5688f4dd",
   "metadata": {},
   "outputs": [
    {
     "name": "stdout",
     "output_type": "stream",
     "text": [
      "Columnas restantes:\n",
      "['is_renewal_needed', 'has_garden', 'price_per_m2', 'district_id', 'energy_certificate']\n"
     ]
    }
   ],
   "source": [
    "# Lista de columnas a eliminar\n",
    "cols_to_drop = [\n",
    "    'neighborhood_id',\n",
    "    'neighborhood_num',\n",
    "    'energy_certificate_num',\n",
    "    'energy_certificate_knn',\n",
    "    'energy_certificate_proporcional',\n",
    "    'energy_certificate_proporcional_num',\n",
    "    'is_new_development',\n",
    "    'n_bathrooms',\n",
    "    'has_lift',\n",
    "    'built_year',\n",
    "    'buy_price_by_area',\n",
    "    'district_name',\n",
    "    'neighborhood_name'\n",
    "\n",
    "\n",
    "    # Añade aquí cualquier otra que no quieras usar\n",
    "]\n",
    "\n",
    "# Eliminar columnas si existen en el DataFrame\n",
    "df = df.drop(columns=[col for col in cols_to_drop if col in df.columns])\n",
    "\n",
    "# Mostrar columnas restantes\n",
    "print(\"Columnas restantes:\")\n",
    "print(df.columns.tolist())\n"
   ]
  },
  {
   "cell_type": "code",
   "execution_count": 123,
   "id": "b99487b5",
   "metadata": {},
   "outputs": [],
   "source": [
    "# Guardar el DataFrame actualizado en un nuevo archivo Excel\n",
    "df.to_excel('preprocessing2.xlsx', index=False)\n"
   ]
  }
 ],
 "metadata": {
  "kernelspec": {
   "display_name": ".venv",
   "language": "python",
   "name": "python3"
  },
  "language_info": {
   "codemirror_mode": {
    "name": "ipython",
    "version": 3
   },
   "file_extension": ".py",
   "mimetype": "text/x-python",
   "name": "python",
   "nbconvert_exporter": "python",
   "pygments_lexer": "ipython3",
   "version": "3.10.11"
  }
 },
 "nbformat": 4,
 "nbformat_minor": 5
}
