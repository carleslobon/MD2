{
 "cells": [
  {
   "cell_type": "code",
   "execution_count": null,
   "metadata": {
    "vscode": {
     "languageId": "plaintext"
    }
   },
   "outputs": [],
   "source": [
    "from sklearn.preprocessing import LabelEncoder"
   ]
  },
  {
   "cell_type": "markdown",
   "metadata": {},
   "source": [
    "# One-hot encoding\n",
    "One-hot encoding is a technique used to represent categorical variables as binary vectors. This is particularly useful for machine learning algorithms that cannot directly handle categorical data. When categories are represented as integers, some algorithms may incorrectly interpret them as having an ordinal relationship (e.g., assuming category 3 is \"greater than\" category 1). One-hot encoding eliminates this issue by creating a binary column for each category.\n"
   ]
  },
  {
   "cell_type": "code",
   "execution_count": null,
   "metadata": {
    "vscode": {
     "languageId": "plaintext"
    }
   },
   "outputs": [],
   "source": [
    "column_name = ''\n",
    "df_encoded = pd.get_dummies(df, columns=[column_name])"
   ]
  },
  {
   "cell_type": "code",
   "execution_count": null,
   "metadata": {
    "vscode": {
     "languageId": "plaintext"
    }
   },
   "outputs": [],
   "source": [
    "# Reverse it\n",
    "one_hot_cols = [col for col in df_encoded.columns if col.startswith(f'{column_name}_')]\n",
    "df_encoded[column_name] = df_encoded[one_hot_cols].idxmax(axis=1).str.replace(f'{column_name}_', '')\n"
   ]
  },
  {
   "cell_type": "markdown",
   "metadata": {},
   "source": [
    "# Label encoding\n",
    "Label encoding is a technique used to convert categorical variables into numerical values. Unlike one-hot encoding, label encoding represents each category as a single integer value. For example, categories like [\"red\", \"green\", \"blue\"] would be transformed into [0, 1, 2]. This approach is memory-efficient as it creates only one column, but it introduces an implicit ordinal relationship between categories. Label encoding works well for ordinal data (where categories have a natural order) and for algorithms that can handle numerical inputs without assuming numerical relationships, such as decision trees and random forests.\n"
   ]
  },
  {
   "cell_type": "code",
   "execution_count": null,
   "metadata": {
    "vscode": {
     "languageId": "plaintext"
    }
   },
   "outputs": [],
   "source": [
    "column_name = ''\n",
    "le = LabelEncoder()  # Use a different label encoder for each different column\n",
    "df[column_name] = le.fit_transform(df[column_name])"
   ]
  },
  {
   "cell_type": "code",
   "execution_count": null,
   "metadata": {
    "vscode": {
     "languageId": "plaintext"
    }
   },
   "outputs": [],
   "source": [
    "# Reverse it\n",
    "df[column_name] = le.inverse_transform(df[column_name])"
   ]
  }
 ],
 "metadata": {
  "language_info": {
   "name": "python"
  }
 },
 "nbformat": 4,
 "nbformat_minor": 2
}
