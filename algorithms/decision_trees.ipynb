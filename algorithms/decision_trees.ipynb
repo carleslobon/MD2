{
 "cells": [
  {
   "cell_type": "markdown",
   "id": "c3de7793",
   "metadata": {},
   "source": [
    "# Decision Trees"
   ]
  },
  {
   "cell_type": "markdown",
   "id": "fe4e87b8",
   "metadata": {},
   "source": [
    "## Imports"
   ]
  },
  {
   "cell_type": "code",
   "execution_count": null,
   "id": "c2f13095",
   "metadata": {
    "vscode": {
     "languageId": "plaintext"
    }
   },
   "outputs": [],
   "source": [
    "import pandas as pd\n",
    "import numpy as np\n",
    "from sklearn.model_selection import train_test_split\n",
    "from sklearn.tree import DecisionTreeClassifier\n",
    "from sklearn.metrics import accuracy_score, classification_report, confusion_matrix\n",
    "from sklearn.tree import plot_tree\n",
    "import matplotlib.pyplot as plt\n",
    "from sklearn.model_selection import GridSearchCV"
   ]
  },
  {
   "cell_type": "markdown",
   "id": "13922bc4",
   "metadata": {},
   "source": [
    "## Loading data"
   ]
  },
  {
   "cell_type": "code",
   "execution_count": null,
   "id": "fcd3703b",
   "metadata": {
    "vscode": {
     "languageId": "plaintext"
    }
   },
   "outputs": [],
   "source": [
    "data_path = '../data/dataset.csv'\n",
    "data = pd.read_csv(data_path)\n",
    "\n",
    "# Assuming the last column is the target variable\n",
    "X = data.iloc[:, :-1]  # Features\n",
    "y = data.iloc[:, -1]  # Target\n",
    "\n",
    "# Split the dataset into training and testing sets\n",
    "X_train, X_test, y_train, y_test = train_test_split(X, y, test_size=0.3, random_state=42)"
   ]
  },
  {
   "cell_type": "markdown",
   "id": "6ae3c51a",
   "metadata": {},
   "source": [
    "## Basic model"
   ]
  },
  {
   "cell_type": "markdown",
   "id": "228b030d",
   "metadata": {},
   "source": [
    "### Creation and training"
   ]
  },
  {
   "cell_type": "code",
   "execution_count": null,
   "id": "f5a50fa5",
   "metadata": {
    "vscode": {
     "languageId": "plaintext"
    }
   },
   "outputs": [],
   "source": [
    "clf = DecisionTreeClassifier(random_state=42)\n",
    "clf.fit(X_train, y_train)"
   ]
  },
  {
   "cell_type": "markdown",
   "id": "2f33af0c",
   "metadata": {},
   "source": [
    "### Evaluation"
   ]
  },
  {
   "cell_type": "code",
   "execution_count": null,
   "id": "4d801f1c",
   "metadata": {
    "vscode": {
     "languageId": "plaintext"
    }
   },
   "outputs": [],
   "source": [
    "y_pred = clf.predict(X_test)\n",
    "\n",
    "accuracy = accuracy_score(y_test, y_pred)\n",
    "print(f'Accuracy: {accuracy:.2f}')\n",
    "print('Classification Report:')\n",
    "print(classification_report(y_test, y_pred))\n",
    "print('Confusion Matrix')\n",
    "print(confusion_matrix(y_test, y_pred))"
   ]
  },
  {
   "cell_type": "markdown",
   "id": "18002966",
   "metadata": {},
   "source": [
    "### Visualitzation"
   ]
  },
  {
   "cell_type": "code",
   "execution_count": null,
   "id": "c3f3ada0",
   "metadata": {
    "vscode": {
     "languageId": "plaintext"
    }
   },
   "outputs": [],
   "source": [
    "plt.figure(figsize=(20,10))\n",
    "plot_tree(clf, filled=True, feature_names=X.columns, class_names=True, max_depth=3)\n",
    "plt.show()"
   ]
  },
  {
   "cell_type": "markdown",
   "id": "7512adbc",
   "metadata": {},
   "source": [
    "## Custom model"
   ]
  },
  {
   "cell_type": "markdown",
   "id": "adf5d503",
   "metadata": {},
   "source": [
    "### Params selection"
   ]
  },
  {
   "cell_type": "markdown",
   "id": "005bf3d1",
   "metadata": {},
   "source": [
    "Los parámetros elegidos son los siguientes:\n",
    "- criterion: Define la métrica utilizada para medir la calidad de las divisiones. Puede ser el índice de Gini (que mide la impureza) o la entropía (basada en information gain).\n",
    "- splitter: Determina la estrategia para seleccionar la división en cada nodo. Puede buscar la mejor división posible o seleccionar una aleatoria entre las mejores opciones.\n",
    "- max_depth: Limita la profundidad máxima del árbol, lo que ayuda a controlar el sobreajuste. Si se deja como `None`, el árbol crecerá hasta que todas las hojas sean puras o contengan menos muestras que el mínimo permitido.\n",
    "- min_samples_split: Es el número mínimo de muestras necesarias para dividir un nodo. Valores más altos evitan divisiones excesivas y reducen el riesgo de sobreajuste.\n",
    "- min_samples_leaf: Es el número mínimo de muestras que debe tener una hoja. Esto asegura que las hojas no sean demasiado pequeñas.\n",
    "- class_weight: Permite ajustar el peso de las clases para manejar datasets desbalanceados. La opción `'balanced'` ajusta automáticamente los pesos inversamente proporcionales a la frecuencia de las clases.\n",
    "- min_impurity_decrease: Es el umbral mínimo de reducción de impureza requerido para realizar una división. Ayuda a evitar divisiones que no aporten suficiente valor."
   ]
  },
  {
   "cell_type": "code",
   "execution_count": null,
   "id": "924f4a98",
   "metadata": {
    "vscode": {
     "languageId": "plaintext"
    }
   },
   "outputs": [],
   "source": [
    "param_grid = {\n",
    "    'criterion': ['gini', 'entropy'],\n",
    "    'splitter': ['best', 'random'],\n",
    "    'max_depth': [None, 5, 10, 20],\n",
    "    'min_samples_split': [2, 5, 10],\n",
    "    'min_samples_leaf': [1, 2, 5],\n",
    "    'class_weight': [None, 'balanced'],\n",
    "    'min_impurity_decrease': [0.0, 0.01, 0.02]\n",
    "}"
   ]
  },
  {
   "cell_type": "markdown",
   "id": "bc0006c9",
   "metadata": {},
   "source": [
    "### Creation and training"
   ]
  },
  {
   "cell_type": "code",
   "execution_count": null,
   "id": "7d2e499c",
   "metadata": {
    "vscode": {
     "languageId": "plaintext"
    }
   },
   "outputs": [],
   "source": [
    "grid_search = GridSearchCV(\n",
    "    DecisionTreeClassifier(random_state=42),\n",
    "    param_grid,\n",
    "    cv=10,  # 10-fold cross-validation\n",
    "    scoring='f1_macro',\n",
    "    n_jobs=-1,\n",
    "    verbose=2\n",
    ")\n",
    "\n",
    "grid_search.fit(X_train, y_train)\n",
    "\n",
    "print(\"Best parameters found:\", grid_search.best_params_)\n",
    "print(\"Best cross-validation score:\", grid_search.best_score_)"
   ]
  },
  {
   "cell_type": "markdown",
   "id": "27ba06b5",
   "metadata": {},
   "source": [
    "### Evaluation"
   ]
  },
  {
   "cell_type": "code",
   "execution_count": null,
   "id": "bb2e82bf",
   "metadata": {
    "vscode": {
     "languageId": "plaintext"
    }
   },
   "outputs": [],
   "source": [
    "best_model = grid_search.best_estimator_\n",
    "\n",
    "y_pred_best = best_model.predict(X_test)\n",
    "\n",
    "accuracy = accuracy_score(y_test, y_pred_best)\n",
    "print(f'Accuracy: {accuracy:.2f}')\n",
    "print('Classification Report:')\n",
    "print(classification_report(y_test, y_pred_best))\n",
    "print('Confusion Matrix')\n",
    "print(confusion_matrix(y_test, y_pred_best))\n",
    "\n",
    "print('Most important features')\n",
    "feature_importances = pd.DataFrame({\n",
    "    'Feature': X.columns,\n",
    "    'Importance': best_model.feature_importances_\n",
    "}).sort_values(by='Importance', ascending=False)\n",
    "\n",
    "print(feature_importances.head(10))"
   ]
  }
 ],
 "metadata": {
  "language_info": {
   "name": "python"
  }
 },
 "nbformat": 4,
 "nbformat_minor": 5
}
